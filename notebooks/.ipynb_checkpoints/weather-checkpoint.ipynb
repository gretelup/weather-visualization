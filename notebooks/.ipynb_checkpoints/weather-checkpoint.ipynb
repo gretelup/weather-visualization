{
 "cells": [
  {
   "cell_type": "markdown",
   "metadata": {},
   "source": [
    "# Analysis\n",
    "\n",
    "* The only strong relationship among the data occurs between temperature and latitutde. There is a strong negative correlation between distance from the equator and temperature, i.e., as you get further away from the equator, a city's maximum temperature gets lower.\n",
    "\n",
    "* These data show no relationship between latitude and humidity.\n",
    "\n",
    "* These data show no relationship between latitude and cloudiness, though there seems to be a pretty even distribution of cloudiness as measured by percentage across all latitudes.\n",
    "\n",
    "* These data show no relationship between latitude and wind speed, though most cities tend to have winds less than 20 mph."
   ]
  },
  {
   "cell_type": "code",
   "execution_count": null,
   "metadata": {
    "scrolled": true
   },
   "outputs": [],
   "source": [
    "# Dependencies and Setup\n",
    "import matplotlib.pyplot as plt\n",
    "import pandas as pd\n",
    "import numpy as np\n",
    "import requests\n",
    "import time\n",
    "import os\n",
    "from citipy import citipy\n",
    "\n",
    "# Import API key\n",
    "from api_keys import api_key\n",
    "\n",
    "# Range of latitudes and longitudes\n",
    "lat_range = (-90, 90)\n",
    "lng_range = (-180, 180)\n",
    "\n",
    "# Save config information.\n",
    "url = \"http://api.openweathermap.org/data/2.5/weather?\"\n",
    "units = \"imperial\"\n",
    "\n",
    "# Build partial query URL\n",
    "query_url = f\"{url}appid={api_key}&units={units}&q=\""
   ]
  },
  {
   "cell_type": "markdown",
   "metadata": {},
   "source": [
    "## Generate Cities List"
   ]
  },
  {
   "cell_type": "code",
   "execution_count": null,
   "metadata": {},
   "outputs": [],
   "source": [
    "# List for holding lat_lngs and cities\n",
    "lat_lngs = []\n",
    "cities = []\n",
    "\n",
    "# Create a set of random lat and lng combinations\n",
    "lats = np.random.uniform(low=-90.000, high=90.000, size=1500)\n",
    "lngs = np.random.uniform(low=-180.000, high=180.000, size=1500)\n",
    "lat_lngs = zip(lats, lngs)\n",
    "\n",
    "# Identify nearest city for each lat, lng combination\n",
    "for lat_lng in lat_lngs:\n",
    "    city = citipy.nearest_city(lat_lng[0], lat_lng[1]).city_name\n",
    "    \n",
    "    # If the city is unique, then add it to a our cities list\n",
    "    if city not in cities:\n",
    "        cities.append(city)"
   ]
  },
  {
   "cell_type": "markdown",
   "metadata": {},
   "source": [
    "## Perform API Call to OpenWeatherMap for each city"
   ]
  },
  {
   "cell_type": "code",
   "execution_count": null,
   "metadata": {},
   "outputs": [],
   "source": [
    "# Create empty lists to collect weather data\n",
    "\n",
    "name = []\n",
    "cloud = []\n",
    "country = []\n",
    "date = []\n",
    "humidity = []\n",
    "lat = []\n",
    "lng = []\n",
    "max_temp = []\n",
    "wind = []\n",
    "\n",
    "# Initialize counters\n",
    "i = 1\n",
    "j = 1\n",
    "\n",
    "# Extract weather data and save to lists for each available city\n",
    "print(\"Beginning Data Retrieval\")\n",
    "print(\"-----------------------------\")\n",
    "\n",
    "#REMEMBER TO CHANGE CITIES_T WHEN WE WANT TO USE WHOLE DATASET\n",
    "for city in cities:\n",
    "    if i % 51 == 0:\n",
    "        time.sleep(50)\n",
    "        j +=1\n",
    "        i = 1\n",
    "    print(f\"Processing Record {i} in set {j} | {city}\")\n",
    "    i +=1\n",
    "    print(query_url + city)\n",
    "    response = requests.get(query_url + city).json()\n",
    "    try:\n",
    "        cloud.append(response['clouds']['all'])\n",
    "        country.append(response['sys']['country'])\n",
    "        date.append(response['dt'])\n",
    "        humidity.append(response['main']['humidity'])\n",
    "        lat.append(response['coord']['lat'])\n",
    "        lng.append(response['coord']['lon'])\n",
    "        max_temp.append(response['main']['temp_max'])\n",
    "        wind.append(response['wind']['speed'])\n",
    "        name.append(city)\n",
    "    except:\n",
    "        print(f\"{city} not found. Skipping...\")\n",
    "\n",
    "print(\"-----------------------------\")\n",
    "print(\"Data Retrieval Complete\")\n",
    "print(\"-----------------------------\")"
   ]
  },
  {
   "cell_type": "code",
   "execution_count": null,
   "metadata": {},
   "outputs": [],
   "source": [
    "# Convert data to dataframe and save as .csv in output\n",
    "weather_df = pd.DataFrame({\"City\": name, \"Cloudiness\": cloud, \"Country\": country, \n",
    "                           \"Date\": date, \"Humidity\": humidity, \"Lat\": lat,\n",
    "                           \"Max Temp\": max_temp, \"Wind Speed\": wind})\n",
    "\n",
    "weather_df.to_csv(os.path.join(\"..\", \"Resources\", \"assets\", \"cities.csv\"), index=False, header= True)"
   ]
  },
  {
   "cell_type": "markdown",
   "metadata": {},
   "source": [
    "# Plotting Data"
   ]
  },
  {
   "cell_type": "code",
   "execution_count": null,
   "metadata": {},
   "outputs": [],
   "source": [
    "# Set x-axis values to Latitude for all plots\n",
    "x_axis = weather_df[\"Lat\"]\n",
    "\n",
    "# Extract date from df and convert to readable format\n",
    "datestamp = weather_df[\"Date\"].min()\n",
    "date = time.strftime('%m/%d/%Y', time.localtime(datestamp))"
   ]
  },
  {
   "cell_type": "markdown",
   "metadata": {},
   "source": [
    "### Latitude vs. Temperature Plot"
   ]
  },
  {
   "cell_type": "code",
   "execution_count": null,
   "metadata": {},
   "outputs": [],
   "source": [
    "# Set y-axis to temperature\n",
    "y_axis = weather_df[\"Max Temp\"]\n",
    "\n",
    "# Create scatter plot\n",
    "plt.figure(figsize=(10, 6))\n",
    "plt.scatter(x_axis, y_axis, marker = \"o\", facecolors = \"red\", edgecolors = \"black\", \n",
    "            alpha = 0.75)\n",
    "\n",
    "#Format plot and set parameters\n",
    "plt.title(f\"City Latitude vs. Max Temperature ({date})\", fontsize = 20)\n",
    "plt.xlabel(\"Latitude\", fontsize = 16)\n",
    "plt.ylabel(\"Max Temperature (F)\", fontsize = 16)\n",
    "plt.xlim(-90, 90)\n",
    "plt.ylim(min(y_axis)-5, max(y_axis)+5)\n",
    "plt.grid()\n",
    "\n",
    "# Save and display plot\n",
    "plt.savefig(os.path.join(\"..\", \"Resources\", \"assets\", \"images\", \"Lat_v_Temp.png\"))\n",
    "plt.show()"
   ]
  },
  {
   "cell_type": "markdown",
   "metadata": {},
   "source": [
    "### Latitude vs. Humidity Plot"
   ]
  },
  {
   "cell_type": "code",
   "execution_count": null,
   "metadata": {},
   "outputs": [],
   "source": [
    "# Set y-axis to humidity\n",
    "y_axis = weather_df[\"Humidity\"]\n",
    "\n",
    "# Create scatter plot\n",
    "plt.figure(figsize=(10, 6))\n",
    "plt.scatter(x_axis, y_axis, marker = \"o\", facecolors = \"purple\", edgecolors = \"black\", \n",
    "            alpha = 0.75)\n",
    "\n",
    "#Format plot and set parameters\n",
    "plt.title(f\"City Latitude vs. Humidity ({date})\", fontsize = 20)\n",
    "plt.xlabel(\"Latitude\", fontsize = 16)\n",
    "plt.ylabel(\"Humidity (%)\", fontsize = 16)\n",
    "plt.xlim(-90, 90)\n",
    "plt.ylim(-5, 105)\n",
    "plt.grid()\n",
    "\n",
    "# Save and display plot\n",
    "plt.savefig(os.path.join(\"..\", \"Resources\", \"assets\", \"images\", \"Lat_v_Humid.png\"))\n",
    "plt.show()"
   ]
  },
  {
   "cell_type": "markdown",
   "metadata": {},
   "source": [
    "### Latitude vs. Cloudiness Plot"
   ]
  },
  {
   "cell_type": "code",
   "execution_count": null,
   "metadata": {},
   "outputs": [],
   "source": [
    "# Set y-axis to cloudiness\n",
    "y_axis = weather_df[\"Cloudiness\"]\n",
    "\n",
    "# Create scatter plot\n",
    "plt.figure(figsize=(10, 6))\n",
    "plt.scatter(x_axis, y_axis, marker = \"o\", facecolors = \"blue\", edgecolors = \"black\", \n",
    "            alpha = 0.75)\n",
    "\n",
    "#Format plot and set parameters\n",
    "plt.title(f\"City Latitude vs. Cloudiness ({date})\", fontsize = 20)\n",
    "plt.xlabel(\"Latitude\", fontsize = 16)\n",
    "plt.ylabel(\"Cloudiness (%)\", fontsize = 16)\n",
    "plt.xlim(-90, 90)\n",
    "plt.ylim(-5, 105)\n",
    "plt.grid()\n",
    "\n",
    "# Save and display plot\n",
    "plt.savefig(os.path.join(\"..\", \"Resources\", \"assets\", \"images\", \"Lat_v_Cloudiness.png\"))\n",
    "plt.show()"
   ]
  },
  {
   "cell_type": "markdown",
   "metadata": {},
   "source": [
    "### Latitude vs. Wind Speed Plot"
   ]
  },
  {
   "cell_type": "code",
   "execution_count": null,
   "metadata": {},
   "outputs": [],
   "source": [
    "# Set y-axis to Wind Speed\n",
    "y_axis = weather_df[\"Wind Speed\"]\n",
    "\n",
    "# Create scatter plot\n",
    "plt.figure(figsize=(10, 6))\n",
    "plt.scatter(x_axis, y_axis, marker = \"o\", facecolors = \"green\", edgecolors = \"black\", \n",
    "            alpha = 0.75)\n",
    "\n",
    "#Format plot and set parameters\n",
    "plt.title(f\"City Latitude vs. Wind Speed ({date})\", fontsize = 20)\n",
    "plt.xlabel(\"Latitude\", fontsize = 16)\n",
    "plt.ylabel(\"Wind Speed\", fontsize = 16)\n",
    "plt.xlim(-90, 90)\n",
    "plt.ylim(-5, max(y_axis)+5)\n",
    "plt.grid()\n",
    "\n",
    "# Save and display plot\n",
    "plt.savefig(os.path.join(\"..\", \"Resources\", \"assets\", \"images\", \"Lat_v_Speed.png\"))\n",
    "plt.show()"
   ]
  },
  {
   "cell_type": "code",
   "execution_count": null,
   "metadata": {},
   "outputs": [],
   "source": []
  }
 ],
 "metadata": {
  "anaconda-cloud": {},
  "kernel_info": {
   "name": "python3"
  },
  "kernelspec": {
   "display_name": "Python 3",
   "language": "python",
   "name": "python3"
  },
  "language_info": {
   "codemirror_mode": {
    "name": "ipython",
    "version": 3
   },
   "file_extension": ".py",
   "mimetype": "text/x-python",
   "name": "python",
   "nbconvert_exporter": "python",
   "pygments_lexer": "ipython3",
   "version": "3.7.3"
  },
  "nteract": {
   "version": "0.12.3"
  }
 },
 "nbformat": 4,
 "nbformat_minor": 2
}
